{
 "cells": [
  {
   "cell_type": "code",
   "execution_count": 1,
   "id": "e585123e",
   "metadata": {},
   "outputs": [],
   "source": [
    "import selenium\n"
   ]
  },
  {
   "cell_type": "code",
   "execution_count": 2,
   "id": "b68035f7",
   "metadata": {},
   "outputs": [],
   "source": [
    "from selenium import webdriver"
   ]
  },
  {
   "cell_type": "code",
   "execution_count": 3,
   "id": "45502932",
   "metadata": {},
   "outputs": [],
   "source": [
    "from urllib.request import urlopen"
   ]
  },
  {
   "cell_type": "code",
   "execution_count": 4,
   "id": "5e9e3b30",
   "metadata": {},
   "outputs": [],
   "source": [
    "from bs4 import BeautifulSoup as bs"
   ]
  },
  {
   "cell_type": "code",
   "execution_count": 5,
   "id": "cb661c01",
   "metadata": {},
   "outputs": [],
   "source": [
    "from urllib.parse import quote_plus"
   ]
  },
  {
   "cell_type": "code",
   "execution_count": 6,
   "id": "0717ae0c",
   "metadata": {},
   "outputs": [],
   "source": [
    "from selenium.webdriver.common.keys import Keys"
   ]
  },
  {
   "cell_type": "code",
   "execution_count": 7,
   "id": "d0c93a0d",
   "metadata": {},
   "outputs": [],
   "source": [
    "import time"
   ]
  },
  {
   "cell_type": "code",
   "execution_count": 8,
   "id": "f70e175d",
   "metadata": {},
   "outputs": [],
   "source": [
    "import urllib.request\n"
   ]
  },
  {
   "cell_type": "code",
   "execution_count": 9,
   "id": "8000572c",
   "metadata": {},
   "outputs": [],
   "source": [
    "from selenium import webdriver\n",
    "from urllib.request import urlopen\n",
    "from bs4 import BeautifulSoup as bs\n",
    "from urllib.parse import quote_plus\n",
    "from selenium.webdriver.common.keys import Keys\n",
    "import time\n",
    "import urllib.request"
   ]
  },
  {
   "cell_type": "code",
   "execution_count": 7,
   "id": "7bc0aa0b",
   "metadata": {},
   "outputs": [
    {
     "ename": "SyntaxError",
     "evalue": "unexpected EOF while parsing (1821953305.py, line 70)",
     "output_type": "error",
     "traceback": [
      "\u001b[1;36m  File \u001b[1;32m\"C:\\Users\\USER\\AppData\\Local\\Temp\\ipykernel_4244\\1821953305.py\"\u001b[1;36m, line \u001b[1;32m70\u001b[0m\n\u001b[1;33m    sayongdate_list.append(deep2[sayongdate_num].text)\u001b[0m\n\u001b[1;37m                                                      ^\u001b[0m\n\u001b[1;31mSyntaxError\u001b[0m\u001b[1;31m:\u001b[0m unexpected EOF while parsing\n"
     ]
    }
   ],
   "source": [
    "import numpy as np\n",
    "\n",
    "from selenium import webdriver\n",
    "\n",
    "from urllib.request import urlopen\n",
    "from bs4 import BeautifulSoup as bs\n",
    "from urllib.parse import quote_plus\n",
    "from selenium.webdriver.common.keys import Keys\n",
    "import time\n",
    "import urllib.request\n",
    "\n",
    "\n",
    "# -----------------------------------------------------------------------\n",
    "driver = webdriver.Chrome(\"C:/Users/USER/chromedriver.exe\")\n",
    "driver.implicitly_wait(3)\n",
    "driver.get('https://land.naver.com/')\n",
    "\n",
    "arr = ['신서신일해피트리']\n",
    "\n",
    "arr_len = len(arr)\n",
    "\n",
    "gonggub_junyong = []\n",
    "room_bathroom = [] \n",
    "sede_list = []\n",
    "sayongdate_list = []\n",
    "entrance = []\n",
    "adress = []\n",
    "area = []\n",
    "\n",
    "\n",
    "for i in range(arr_len) :\n",
    "    sede_list = []\n",
    "    sayongdate_list = []\n",
    "    driver.get('https://new.land.naver.com/')\n",
    "    danjiname = arr[i]\n",
    "    elem_search = driver.find_element_by_class_name(\"search_input\")\n",
    "    elem_search.clear()\n",
    "    elem_search.send_keys(danjiname)\n",
    "    elem_search.send_keys(Keys.RETURN)\n",
    "    button = driver.find_element_by_class_name(\"complex_link\").click()\n",
    "    time.sleep(1)\n",
    "\n",
    "\n",
    "    ddf = []\n",
    "    for i2 in range(len(driver.find_elements_by_class_name(\"title\"))):\n",
    "        ddf.append(driver.find_elements_by_class_name(\"title\")[i2].text)\n",
    "\n",
    "    if arr[i] in ddf:\n",
    "        driver.find_elements_by_class_name(\"title\")[ddf.index(arr[i])].click()\n",
    "        button = driver.find_element_by_class_name(\"complex_link\").click()\n",
    "        time.sleep(1)\n",
    "        detail = driver.find_element_by_class_name(\"detail_box--complex\")\n",
    "        deep1 = detail.find_elements_by_class_name('table_th')\n",
    "        deep2 = detail.find_elements_by_class_name('table_td')\n",
    "\n",
    "        try :\n",
    "            sede_list = []    \n",
    "            print(sede_list[-1])\n",
    "            sayongdate_list = []\n",
    "            print(sayongdate_list[-1])\n",
    "            \n",
    "            for i3 in range(len(deep1)):\n",
    "                    sede_list.append(deep1[i3].text)\n",
    "                    sayongdate_list.append(deep1[i3].text)\n",
    "            \n",
    "            sede_num = sede_list.index('세대수')\n",
    "            sayongdate_num = sayongdate_list.index('사용승인일')\n",
    "\n",
    "            sede_list.append(deep2[sede_num].text)\n",
    "            sayongdate_list.append(deep2[sayongdate_num].text)"
   ]
  },
  {
   "cell_type": "code",
   "execution_count": null,
   "id": "b2cecb58",
   "metadata": {},
   "outputs": [],
   "source": [
    "        try :\n",
    "            sede_list = []    \n",
    "            print(sede_list[-1])\n",
    "            sayongdate_list = []\n",
    "            print(sayongdate_list[-1])\n",
    "            \n",
    "            for i3 in range(len(deep1)):\n",
    "                    sede_list.append(deep1[i3].text)\n",
    "                    sayongdate_list.append(deep1[i3].text)\n",
    "            \n",
    "            sede_num = sede_list.index('세대수')\n",
    "            sayongdate_num = sayongdate_list.index('사용승인일')\n",
    "\n",
    "            sede_list.append(deep2[sede_num].text)\n",
    "            sayongdate_list.append(deep2[sayongdate_num].text)"
   ]
  },
  {
   "cell_type": "code",
   "execution_count": null,
   "id": "9230d436",
   "metadata": {},
   "outputs": [],
   "source": [
    " "
   ]
  },
  {
   "cell_type": "code",
   "execution_count": null,
   "id": "65a23ec3",
   "metadata": {},
   "outputs": [],
   "source": []
  }
 ],
 "metadata": {
  "kernelspec": {
   "display_name": "Python 3 (ipykernel)",
   "language": "python",
   "name": "python3"
  },
  "language_info": {
   "codemirror_mode": {
    "name": "ipython",
    "version": 3
   },
   "file_extension": ".py",
   "mimetype": "text/x-python",
   "name": "python",
   "nbconvert_exporter": "python",
   "pygments_lexer": "ipython3",
   "version": "3.7.13"
  }
 },
 "nbformat": 4,
 "nbformat_minor": 5
}
